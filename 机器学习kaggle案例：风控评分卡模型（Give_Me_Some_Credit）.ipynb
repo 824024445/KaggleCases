{
  "nbformat": 4,
  "nbformat_minor": 0,
  "metadata": {
    "colab": {
      "name": "机器学习kaggle案例：风控评分卡模型（Give Me Some Credit）.ipynb",
      "version": "0.3.2",
      "provenance": [],
      "collapsed_sections": [
        "N821GKWZQTQ8",
        "x1XB4YrjQn0H",
        "PLdZ05Ljzgyy",
        "SErcnYPBUds7",
        "uyZWNrToPerD",
        "_8lx_CO6PlP4",
        "m2_mIsFAPrHu",
        "rFznNXxNPuCZ",
        "DlWiJr_1Y-NY",
        "zsN_paEsZEYm",
        "XCD3J68X3A-r"
      ],
      "include_colab_link": true
    },
    "kernelspec": {
      "name": "python3",
      "display_name": "Python 3"
    }
  },
  "cells": [
    {
      "cell_type": "markdown",
      "metadata": {
        "id": "view-in-github",
        "colab_type": "text"
      },
      "source": [
        "<a href=\"https://colab.research.google.com/github/824024445/KaggleCases/blob/master/%E6%9C%BA%E5%99%A8%E5%AD%A6%E4%B9%A0kaggle%E6%A1%88%E4%BE%8B%EF%BC%9A%E9%A3%8E%E6%8E%A7%E8%AF%84%E5%88%86%E5%8D%A1%E6%A8%A1%E5%9E%8B%EF%BC%88Give_Me_Some_Credit%EF%BC%89.ipynb\" target=\"_parent\"><img src=\"https://colab.research.google.com/assets/colab-badge.svg\" alt=\"Open In Colab\"/></a>"
      ]
    },
    {
      "cell_type": "markdown",
      "metadata": {
        "id": "Dd1rlcTx9ute",
        "colab_type": "text"
      },
      "source": [
        "## 一、简介\n",
        "kaggle上经典的风控模型：通过预测未来两年内某人将面临财务困境的可能性，提高信用评分的现有水平"
      ]
    },
    {
      "cell_type": "markdown",
      "metadata": {
        "id": "N821GKWZQTQ8",
        "colab_type": "text"
      },
      "source": [
        "### 1.1 比赛描述"
      ]
    },
    {
      "cell_type": "markdown",
      "metadata": {
        "id": "_49StmvTQVO8",
        "colab_type": "text"
      },
      "source": [
        "银行在市场经济中起着至关重要的作用。他们决定谁可以获得融资以及在什么条件下获得投资决策。要使市场和社会发挥作用，个人和公司需要获得信贷。 \n",
        "\n",
        "信用评分算法，用于猜测违约概率，是银行用来确定是否应该授予贷款的方法。\n",
        "\n",
        "该竞赛要求参与者通过预测某人在未来两年内遇到财务困境的可能性来改进信用评分的现有技术水平。 \n",
        "\n",
        "本次竞赛的目标是建立一个借款人可以用来帮助做出最佳财务决策的模型。 250,000名借款人提供历史数据，奖金池为5,000美元（第一名为3,000美元，第二名为1,500美元，第三名为500美元）。"
      ]
    },
    {
      "cell_type": "markdown",
      "metadata": {
        "id": "x1XB4YrjQn0H",
        "colab_type": "text"
      },
      "source": [
        "### 1.2 比赛评估"
      ]
    },
    {
      "cell_type": "markdown",
      "metadata": {
        "id": "hGn3wLhVQxhi",
        "colab_type": "text"
      },
      "source": [
        "使用AUC(Area Under \n",
        "ROC Curve)作为性能性能评估标准。意思是ROC曲线下的面积\n",
        "\n",
        "ROC全称是受试者工作特征。横坐标是假正例率（False Positive \n",
        "Rate），纵坐标是真正例率（True Positive \n",
        "Rate）"
      ]
    },
    {
      "cell_type": "markdown",
      "metadata": {
        "id": "vyYhVEAh4ve2",
        "colab_type": "text"
      },
      "source": [
        "![替代文字](https://raw.githubusercontent.com/824024445/KaggleCases/master/img/GiveMeSomeCredict/1-2.jpg)\n",
        "![替代文字](https://raw.githubusercontent.com/824024445/KaggleCases/master/img/GiveMeSomeCredict/1-1.jpg)\n",
        "![替代文字](https://raw.githubusercontent.com/824024445/KaggleCases/master/img/GiveMeSomeCredict/1-3.png)"
      ]
    },
    {
      "cell_type": "markdown",
      "metadata": {
        "id": "8S7nN3dbQ4kE",
        "colab_type": "text"
      },
      "source": [
        "### 1.3 数据描述"
      ]
    },
    {
      "cell_type": "markdown",
      "metadata": {
        "id": "AAXFMkUOqmeN",
        "colab_type": "text"
      },
      "source": [
        "数据字典(取自Data Dictionary.xls文件）：\n",
        "\n",
        "在这里讲一下，kaggle每个竞赛都会提供\n",
        "- 数据字典（可能是在介绍中也可能是单独提供一个数据字典文件，就像这个案例一样）\n",
        "- 一个训练集\n",
        "- 一个测试集（不含目标值）\n",
        "- 一个提交文件的示例（本案例就是sampleEntry.csv文件）\n",
        "\n",
        "\n",
        "\n",
        "<table border=\"1\" class=\"dataframe\">\n",
        "  <thead>\n",
        "    <tr style=\"text-align: right;\">\n",
        "      <th></th>\n",
        "      <th>Variable Name</th>\n",
        "      <th>Description</th>\n",
        "      <th>Type</th>\n",
        "    </tr>\n",
        "  </thead>\n",
        "  <tbody>\n",
        "    <tr>\n",
        "      <th>1</th>\n",
        "      <td>SeriousDlqin2yrs（目标值）</td>\n",
        "      <td>是否有超过90天或更长时间逾期未还的不良行为</td>\n",
        "      <td>Y/N（0为好1为坏）</td>\n",
        "    </tr>\n",
        "    <tr>\n",
        "      <th>2</th>\n",
        "      <td>RevolvingUtilizationOfUnsecuredLines</td>\n",
        "      <td>可用额度比值</td>\n",
        "      <td>percentage</td>\n",
        "    </tr>\n",
        "    <tr>\n",
        "      <th>3</th>\n",
        "      <td>age</td>\n",
        "      <td>年龄</td>\n",
        "      <td>integer</td>\n",
        "    </tr>\n",
        "    <tr>\n",
        "      <th>4</th>\n",
        "      <td>NumberOfTime30-59DaysPastDueNotWorse</td>\n",
        "      <td>逾期30-59天笔数</td>\n",
        "      <td>integer</td>\n",
        "    </tr>\n",
        "    <tr>\n",
        "      <th>5</th>\n",
        "      <td>DebtRatio</td>\n",
        "      <td>还款率(每月偿还债务，赡养费，生活费用).</td>\n",
        "      <td>percentage</td>\n",
        "    </tr>\n",
        "    <tr>\n",
        "      <th>6</th>\n",
        "      <td>MonthlyIncome</td>\n",
        "      <td>月收入</td>\n",
        "      <td>real</td>\n",
        "    </tr>\n",
        "    <tr>\n",
        "      <th>7</th>\n",
        "      <td>NumberOfOpenCreditLinesAndLoans</td>\n",
        "      <td>信贷数量</td>\n",
        "      <td>integer</td>\n",
        "    </tr>\n",
        "    <tr>\n",
        "      <th>8</th>\n",
        "      <td>NumberOfTimes90DaysLate</td>\n",
        "      <td>逾期90天笔数</td>\n",
        "      <td>integer</td>\n",
        "    </tr>\n",
        "    <tr>\n",
        "      <th>9</th>\n",
        "      <td>NumberRealEstateLoansOrLines</td>\n",
        "      <td>固定资产贷款量</td>\n",
        "      <td>integer</td>\n",
        "    </tr>\n",
        "    <tr>\n",
        "      <th>10</th>\n",
        "      <td>NumberOfTime60-89DaysPastDueNotWorse</td>\n",
        "      <td>逾期60-89天笔数</td>\n",
        "      <td>integer</td>\n",
        "    </tr>\n",
        "    <tr>\n",
        "      <th>11</th>\n",
        "      <td>NumberOfDependents</td>\n",
        "      <td>家属数量</td>\n",
        "      <td>integer</td>\n",
        "    </tr>\n",
        "  </tbody>\n",
        "</table>\n",
        "\n"
      ]
    },
    {
      "cell_type": "markdown",
      "metadata": {
        "id": "PLdZ05Ljzgyy",
        "colab_type": "text"
      },
      "source": [
        "### 1.4 行业知识补充\n"
      ]
    },
    {
      "cell_type": "markdown",
      "metadata": {
        "id": "3arhStoe5k0M",
        "colab_type": "text"
      },
      "source": [
        "信用评分模型的书：[陈建的《信用评分模型与应用》](https://pan.baidu.com/s/1980a4)\n",
        "\n",
        "风控模型：先说分类，本文评分卡模型属于**A卡申请者评级模型**\n",
        "\n",
        "\n",
        "信用风险计量体系包括主体评级模型和债项评级两部分。主体评级和债项评级均有一系列评级模型组成，其中主体评级模型可用“四张卡”来表示，分别是A卡、B卡、C卡和F卡；债项评级模型通常按照主体的融资用途，分为企业融资模型、现金流融资模型和项目融资模型等。\n",
        "\n",
        "\n",
        "**A卡，又称为申请者评级模型**，个人用户申请相应的金融产品，对用户进行筛选分类，区分好坏用户，据此决定是否通过申请。在获客过程中用到的信用风险模型。从模型的角度来看，它会对用户未来一定周期内的逾期风险作预测，即模型会在用户授权的情况下收集用户多维度的信息，以此来预测逾期概率。预测的逾期概率被用于风控策略或者转换成信用评分，比如国外经典的FICO评分，国内的蚂蚁信用评分、京东小白评分、携程金融的程信分等。A卡评分除了用于决定是否通过用户的信用申请，还用于风险定价，比如额度、利率等\n",
        "\n",
        "\n",
        "**B卡，又称为行为评级模型**，在用户使用金融产品的过程中，根据用户的历史使用的行为数据对用户进行评级，对可能出现的逾期、延期等行为进行预测。用户拿到信用额度后，模型根据用户的贷中行为数据，进行风险水平的预测。本质上讲，这个模型是一个事件驱动的模型，在互联网金融领域，一般会比A卡的预测时间窗口要短，对用户的行为更为敏感。B卡除了可以用于高风险用户的拦截，也可以作为额度、利率调整的重要参考因素。\n",
        "\n",
        "\n",
        "**C卡，又称为催收评级模型**，对业务中的存量客户是否需要催收进行预测。例如当用户出现逾期时，机构应该先催谁，或者哪些用户不用催，就自动会把钱还回来。催收模型一定程度节约催收成本，提高回催率。\n",
        "\n",
        "\n",
        "**F卡，又称为欺诈评级模型**，对业务中的新用户可能存在的欺诈行为进行预测。根据用户提交的材料进行身份核实，确保用户不存在欺诈行为；\n",
        "\n",
        "风控建模所使用的客户数据主要分为：(1)信贷数据,(2)资质数据,(3)消费数据,(4)行为数据。\n",
        "\n",
        "![替代文字](https://raw.githubusercontent.com/824024445/KaggleCases/master/img/GiveMeSomeCredict/credict-1.png)\n",
        "\n"
      ]
    },
    {
      "cell_type": "markdown",
      "metadata": {
        "id": "TKN-UDqe_Xgj",
        "colab_type": "text"
      },
      "source": [
        "风控中常用的模型  \n",
        "![替代文字](https://raw.githubusercontent.com/824024445/KaggleCases/master/img/GiveMeSomeCredict/1-4.jpg)"
      ]
    },
    {
      "cell_type": "markdown",
      "metadata": {
        "id": "3UeT2__n_g8N",
        "colab_type": "text"
      },
      "source": [
        "就先补充这么多吧。跟细致的以后再写。"
      ]
    },
    {
      "cell_type": "markdown",
      "metadata": {
        "id": "bxcjRhwxRCN6",
        "colab_type": "text"
      },
      "source": [
        "## 二、代码"
      ]
    },
    {
      "cell_type": "markdown",
      "metadata": {
        "id": "2Q0gblmvUaC-",
        "colab_type": "text"
      },
      "source": [
        "### 2.1 获取数据"
      ]
    },
    {
      "cell_type": "markdown",
      "metadata": {
        "id": "SErcnYPBUds7",
        "colab_type": "text"
      },
      "source": [
        "#### 2.1.1 下载数据\n",
        "我写了一个小函数来实现数据的下载，数据全都是官网原版数据，我存到了我的github上。（https://github.com/824024445/KaggleCases）  \n",
        "\n",
        "所有数据都下载到了你当前文件夹下的datasets文件下，每个案例涉及到的数据全部下载到了以该案例命名的文件夹下。  \n",
        "\n",
        "我所有的kaggle案例的博客，下载数据均会使用这个函数，只需要修改前两个常量即可。\n",
        "> 注：此函数只用于下载数据，函数在该代码框内就运行了。不再用到其它代码中，包括常量，也不会用在其他地方。"
      ]
    },
    {
      "cell_type": "code",
      "metadata": {
        "id": "bg555-XqUi1J",
        "colab_type": "code",
        "colab": {}
      },
      "source": [
        "import os\n",
        "import zipfile\n",
        "from six.moves import urllib\n",
        "\n",
        "FILE_NAME = \"GiveMeSomeCredit.zip\" #文件名\n",
        "DATA_PATH =\"datasets/GiveMeSomeCredit\" #存储文件的文件夹，取跟文件相同（相近）的名字便于区分\n",
        "DATA_URL = \"https://github.com/824024445/KaggleCases/blob/master/datasets/\" + FILE_NAME + \"?raw=true\"\n",
        "\n",
        "\n",
        "def fetch_data(data_url=DATA_URL, data_path=DATA_PATH, file_name=FILE_NAME):\n",
        "    if not os.path.isdir(data_path): #查看当前文件夹下是否存在\"datasets/GiveMeSomeCredit\"，没有的话创建\n",
        "        os.makedirs(data_path)\n",
        "    zip_path = os.path.join(data_path, file_name) #下载到本地的文件的路径及名称\n",
        "    # urlretrieve()方法直接将远程数据下载到本地\n",
        "    urllib.request.urlretrieve(data_url, zip_path) #第二个参数zip_path是保存到的本地路径\n",
        "    data_zip = zipfile.ZipFile(zip_path)\n",
        "    data_zip.extractall(path=data_path) #什么参数都不输入就是默认解压到当前文件,为了保持统一，是泰坦尼克的数据就全部存到GiveMeSomeCredit文件夹下\n",
        "    data_zip.close()\n",
        "fetch_data()"
      ],
      "execution_count": 0,
      "outputs": []
    },
    {
      "cell_type": "markdown",
      "metadata": {
        "id": "REU3OiPRUghR",
        "colab_type": "text"
      },
      "source": [
        "#### 2.1.2 读取数据"
      ]
    },
    {
      "cell_type": "code",
      "metadata": {
        "id": "J9e2Ujw6o-IH",
        "colab_type": "code",
        "colab": {
          "base_uri": "https://localhost:8080/",
          "height": 243
        },
        "outputId": "52156e0f-14c4-4422-efae-6cfa2a2edcd9"
      },
      "source": [
        "import pandas as pd\n",
        "import numpy as np\n",
        "\n",
        "train_df = pd.read_csv(\"datasets/GiveMeSomeCredit/cs-training.csv\")\n",
        "test_df = pd.read_csv(\"datasets/GiveMeSomeCredit/cs-test.csv\")\n",
        "combine=[train_df, test_df]\n",
        "train_df.head()"
      ],
      "execution_count": 189,
      "outputs": [
        {
          "output_type": "execute_result",
          "data": {
            "text/html": [
              "<div>\n",
              "<style scoped>\n",
              "    .dataframe tbody tr th:only-of-type {\n",
              "        vertical-align: middle;\n",
              "    }\n",
              "\n",
              "    .dataframe tbody tr th {\n",
              "        vertical-align: top;\n",
              "    }\n",
              "\n",
              "    .dataframe thead th {\n",
              "        text-align: right;\n",
              "    }\n",
              "</style>\n",
              "<table border=\"1\" class=\"dataframe\">\n",
              "  <thead>\n",
              "    <tr style=\"text-align: right;\">\n",
              "      <th></th>\n",
              "      <th>Unnamed: 0</th>\n",
              "      <th>SeriousDlqin2yrs</th>\n",
              "      <th>RevolvingUtilizationOfUnsecuredLines</th>\n",
              "      <th>age</th>\n",
              "      <th>NumberOfTime30-59DaysPastDueNotWorse</th>\n",
              "      <th>DebtRatio</th>\n",
              "      <th>MonthlyIncome</th>\n",
              "      <th>NumberOfOpenCreditLinesAndLoans</th>\n",
              "      <th>NumberOfTimes90DaysLate</th>\n",
              "      <th>NumberRealEstateLoansOrLines</th>\n",
              "      <th>NumberOfTime60-89DaysPastDueNotWorse</th>\n",
              "      <th>NumberOfDependents</th>\n",
              "    </tr>\n",
              "  </thead>\n",
              "  <tbody>\n",
              "    <tr>\n",
              "      <th>0</th>\n",
              "      <td>1</td>\n",
              "      <td>1</td>\n",
              "      <td>0.766127</td>\n",
              "      <td>45</td>\n",
              "      <td>2</td>\n",
              "      <td>0.802982</td>\n",
              "      <td>9120.0</td>\n",
              "      <td>13</td>\n",
              "      <td>0</td>\n",
              "      <td>6</td>\n",
              "      <td>0</td>\n",
              "      <td>2.0</td>\n",
              "    </tr>\n",
              "    <tr>\n",
              "      <th>1</th>\n",
              "      <td>2</td>\n",
              "      <td>0</td>\n",
              "      <td>0.957151</td>\n",
              "      <td>40</td>\n",
              "      <td>0</td>\n",
              "      <td>0.121876</td>\n",
              "      <td>2600.0</td>\n",
              "      <td>4</td>\n",
              "      <td>0</td>\n",
              "      <td>0</td>\n",
              "      <td>0</td>\n",
              "      <td>1.0</td>\n",
              "    </tr>\n",
              "    <tr>\n",
              "      <th>2</th>\n",
              "      <td>3</td>\n",
              "      <td>0</td>\n",
              "      <td>0.658180</td>\n",
              "      <td>38</td>\n",
              "      <td>1</td>\n",
              "      <td>0.085113</td>\n",
              "      <td>3042.0</td>\n",
              "      <td>2</td>\n",
              "      <td>1</td>\n",
              "      <td>0</td>\n",
              "      <td>0</td>\n",
              "      <td>0.0</td>\n",
              "    </tr>\n",
              "    <tr>\n",
              "      <th>3</th>\n",
              "      <td>4</td>\n",
              "      <td>0</td>\n",
              "      <td>0.233810</td>\n",
              "      <td>30</td>\n",
              "      <td>0</td>\n",
              "      <td>0.036050</td>\n",
              "      <td>3300.0</td>\n",
              "      <td>5</td>\n",
              "      <td>0</td>\n",
              "      <td>0</td>\n",
              "      <td>0</td>\n",
              "      <td>0.0</td>\n",
              "    </tr>\n",
              "    <tr>\n",
              "      <th>4</th>\n",
              "      <td>5</td>\n",
              "      <td>0</td>\n",
              "      <td>0.907239</td>\n",
              "      <td>49</td>\n",
              "      <td>1</td>\n",
              "      <td>0.024926</td>\n",
              "      <td>63588.0</td>\n",
              "      <td>7</td>\n",
              "      <td>0</td>\n",
              "      <td>1</td>\n",
              "      <td>0</td>\n",
              "      <td>0.0</td>\n",
              "    </tr>\n",
              "  </tbody>\n",
              "</table>\n",
              "</div>"
            ],
            "text/plain": [
              "   Unnamed: 0  ...  NumberOfDependents\n",
              "0           1  ...                 2.0\n",
              "1           2  ...                 1.0\n",
              "2           3  ...                 0.0\n",
              "3           4  ...                 0.0\n",
              "4           5  ...                 0.0\n",
              "\n",
              "[5 rows x 12 columns]"
            ]
          },
          "metadata": {
            "tags": []
          },
          "execution_count": 189
        }
      ]
    },
    {
      "cell_type": "markdown",
      "metadata": {
        "id": "uyZWNrToPerD",
        "colab_type": "text"
      },
      "source": [
        "### 2.2 观察数据"
      ]
    },
    {
      "cell_type": "markdown",
      "metadata": {
        "id": "_8lx_CO6PlP4",
        "colab_type": "text"
      },
      "source": [
        "#### 2.2.1 info()"
      ]
    },
    {
      "cell_type": "code",
      "metadata": {
        "id": "cpGf5JW4qy0M",
        "colab_type": "code",
        "colab": {
          "base_uri": "https://localhost:8080/",
          "height": 331
        },
        "outputId": "475de8a9-7776-4897-83c6-0755f5230656"
      },
      "source": [
        "train_df.info()"
      ],
      "execution_count": 62,
      "outputs": [
        {
          "output_type": "stream",
          "text": [
            "<class 'pandas.core.frame.DataFrame'>\n",
            "RangeIndex: 150000 entries, 0 to 149999\n",
            "Data columns (total 12 columns):\n",
            "Unnamed: 0                              150000 non-null int64\n",
            "SeriousDlqin2yrs                        150000 non-null int64\n",
            "RevolvingUtilizationOfUnsecuredLines    150000 non-null float64\n",
            "age                                     150000 non-null int64\n",
            "NumberOfTime30-59DaysPastDueNotWorse    150000 non-null int64\n",
            "DebtRatio                               150000 non-null float64\n",
            "MonthlyIncome                           120269 non-null float64\n",
            "NumberOfOpenCreditLinesAndLoans         150000 non-null int64\n",
            "NumberOfTimes90DaysLate                 150000 non-null int64\n",
            "NumberRealEstateLoansOrLines            150000 non-null int64\n",
            "NumberOfTime60-89DaysPastDueNotWorse    150000 non-null int64\n",
            "NumberOfDependents                      146076 non-null float64\n",
            "dtypes: float64(4), int64(8)\n",
            "memory usage: 13.7 MB\n"
          ],
          "name": "stdout"
        }
      ]
    },
    {
      "cell_type": "markdown",
      "metadata": {
        "id": "jS-5OIraP1HH",
        "colab_type": "text"
      },
      "source": [
        "观察到：\n",
        "- \"MonthlyIncome\"和\"NumberOfDependents\"有空值。等会数据清洗把空值处理了。"
      ]
    },
    {
      "cell_type": "code",
      "metadata": {
        "id": "-Xb8oX4liHFN",
        "colab_type": "code",
        "colab": {
          "base_uri": "https://localhost:8080/",
          "height": 331
        },
        "outputId": "c1b26a7d-38f4-4489-af35-9bedbb185829"
      },
      "source": [
        "test_df.info()"
      ],
      "execution_count": 63,
      "outputs": [
        {
          "output_type": "stream",
          "text": [
            "<class 'pandas.core.frame.DataFrame'>\n",
            "RangeIndex: 101503 entries, 0 to 101502\n",
            "Data columns (total 12 columns):\n",
            "Unnamed: 0                              101503 non-null int64\n",
            "SeriousDlqin2yrs                        0 non-null float64\n",
            "RevolvingUtilizationOfUnsecuredLines    101503 non-null float64\n",
            "age                                     101503 non-null int64\n",
            "NumberOfTime30-59DaysPastDueNotWorse    101503 non-null int64\n",
            "DebtRatio                               101503 non-null float64\n",
            "MonthlyIncome                           81400 non-null float64\n",
            "NumberOfOpenCreditLinesAndLoans         101503 non-null int64\n",
            "NumberOfTimes90DaysLate                 101503 non-null int64\n",
            "NumberRealEstateLoansOrLines            101503 non-null int64\n",
            "NumberOfTime60-89DaysPastDueNotWorse    101503 non-null int64\n",
            "NumberOfDependents                      98877 non-null float64\n",
            "dtypes: float64(5), int64(7)\n",
            "memory usage: 9.3 MB\n"
          ],
          "name": "stdout"
        }
      ]
    },
    {
      "cell_type": "markdown",
      "metadata": {
        "id": "m2_mIsFAPrHu",
        "colab_type": "text"
      },
      "source": [
        "#### 2.2.2 decribe()"
      ]
    },
    {
      "cell_type": "code",
      "metadata": {
        "id": "6oOhZU0lLa3H",
        "colab_type": "code",
        "colab": {
          "base_uri": "https://localhost:8080/",
          "height": 320
        },
        "outputId": "665b8a22-40fa-475c-c266-b42205a33bce"
      },
      "source": [
        "#decribe查看数值型数据的信息.没有非数值型的数据，所以不使用describe(include=['O'])查看非数值型数据了。\n",
        "train_df.describe()"
      ],
      "execution_count": 64,
      "outputs": [
        {
          "output_type": "execute_result",
          "data": {
            "text/html": [
              "<div>\n",
              "<style scoped>\n",
              "    .dataframe tbody tr th:only-of-type {\n",
              "        vertical-align: middle;\n",
              "    }\n",
              "\n",
              "    .dataframe tbody tr th {\n",
              "        vertical-align: top;\n",
              "    }\n",
              "\n",
              "    .dataframe thead th {\n",
              "        text-align: right;\n",
              "    }\n",
              "</style>\n",
              "<table border=\"1\" class=\"dataframe\">\n",
              "  <thead>\n",
              "    <tr style=\"text-align: right;\">\n",
              "      <th></th>\n",
              "      <th>Unnamed: 0</th>\n",
              "      <th>SeriousDlqin2yrs</th>\n",
              "      <th>RevolvingUtilizationOfUnsecuredLines</th>\n",
              "      <th>age</th>\n",
              "      <th>NumberOfTime30-59DaysPastDueNotWorse</th>\n",
              "      <th>DebtRatio</th>\n",
              "      <th>MonthlyIncome</th>\n",
              "      <th>NumberOfOpenCreditLinesAndLoans</th>\n",
              "      <th>NumberOfTimes90DaysLate</th>\n",
              "      <th>NumberRealEstateLoansOrLines</th>\n",
              "      <th>NumberOfTime60-89DaysPastDueNotWorse</th>\n",
              "      <th>NumberOfDependents</th>\n",
              "    </tr>\n",
              "  </thead>\n",
              "  <tbody>\n",
              "    <tr>\n",
              "      <th>count</th>\n",
              "      <td>150000.000000</td>\n",
              "      <td>150000.000000</td>\n",
              "      <td>150000.000000</td>\n",
              "      <td>150000.000000</td>\n",
              "      <td>150000.000000</td>\n",
              "      <td>150000.000000</td>\n",
              "      <td>1.202690e+05</td>\n",
              "      <td>150000.000000</td>\n",
              "      <td>150000.000000</td>\n",
              "      <td>150000.000000</td>\n",
              "      <td>150000.000000</td>\n",
              "      <td>146076.000000</td>\n",
              "    </tr>\n",
              "    <tr>\n",
              "      <th>mean</th>\n",
              "      <td>75000.500000</td>\n",
              "      <td>0.066840</td>\n",
              "      <td>6.048438</td>\n",
              "      <td>52.295207</td>\n",
              "      <td>0.421033</td>\n",
              "      <td>353.005076</td>\n",
              "      <td>6.670221e+03</td>\n",
              "      <td>8.452760</td>\n",
              "      <td>0.265973</td>\n",
              "      <td>1.018240</td>\n",
              "      <td>0.240387</td>\n",
              "      <td>0.757222</td>\n",
              "    </tr>\n",
              "    <tr>\n",
              "      <th>std</th>\n",
              "      <td>43301.414527</td>\n",
              "      <td>0.249746</td>\n",
              "      <td>249.755371</td>\n",
              "      <td>14.771866</td>\n",
              "      <td>4.192781</td>\n",
              "      <td>2037.818523</td>\n",
              "      <td>1.438467e+04</td>\n",
              "      <td>5.145951</td>\n",
              "      <td>4.169304</td>\n",
              "      <td>1.129771</td>\n",
              "      <td>4.155179</td>\n",
              "      <td>1.115086</td>\n",
              "    </tr>\n",
              "    <tr>\n",
              "      <th>min</th>\n",
              "      <td>1.000000</td>\n",
              "      <td>0.000000</td>\n",
              "      <td>0.000000</td>\n",
              "      <td>0.000000</td>\n",
              "      <td>0.000000</td>\n",
              "      <td>0.000000</td>\n",
              "      <td>0.000000e+00</td>\n",
              "      <td>0.000000</td>\n",
              "      <td>0.000000</td>\n",
              "      <td>0.000000</td>\n",
              "      <td>0.000000</td>\n",
              "      <td>0.000000</td>\n",
              "    </tr>\n",
              "    <tr>\n",
              "      <th>25%</th>\n",
              "      <td>37500.750000</td>\n",
              "      <td>0.000000</td>\n",
              "      <td>0.029867</td>\n",
              "      <td>41.000000</td>\n",
              "      <td>0.000000</td>\n",
              "      <td>0.175074</td>\n",
              "      <td>3.400000e+03</td>\n",
              "      <td>5.000000</td>\n",
              "      <td>0.000000</td>\n",
              "      <td>0.000000</td>\n",
              "      <td>0.000000</td>\n",
              "      <td>0.000000</td>\n",
              "    </tr>\n",
              "    <tr>\n",
              "      <th>50%</th>\n",
              "      <td>75000.500000</td>\n",
              "      <td>0.000000</td>\n",
              "      <td>0.154181</td>\n",
              "      <td>52.000000</td>\n",
              "      <td>0.000000</td>\n",
              "      <td>0.366508</td>\n",
              "      <td>5.400000e+03</td>\n",
              "      <td>8.000000</td>\n",
              "      <td>0.000000</td>\n",
              "      <td>1.000000</td>\n",
              "      <td>0.000000</td>\n",
              "      <td>0.000000</td>\n",
              "    </tr>\n",
              "    <tr>\n",
              "      <th>75%</th>\n",
              "      <td>112500.250000</td>\n",
              "      <td>0.000000</td>\n",
              "      <td>0.559046</td>\n",
              "      <td>63.000000</td>\n",
              "      <td>0.000000</td>\n",
              "      <td>0.868254</td>\n",
              "      <td>8.249000e+03</td>\n",
              "      <td>11.000000</td>\n",
              "      <td>0.000000</td>\n",
              "      <td>2.000000</td>\n",
              "      <td>0.000000</td>\n",
              "      <td>1.000000</td>\n",
              "    </tr>\n",
              "    <tr>\n",
              "      <th>max</th>\n",
              "      <td>150000.000000</td>\n",
              "      <td>1.000000</td>\n",
              "      <td>50708.000000</td>\n",
              "      <td>109.000000</td>\n",
              "      <td>98.000000</td>\n",
              "      <td>329664.000000</td>\n",
              "      <td>3.008750e+06</td>\n",
              "      <td>58.000000</td>\n",
              "      <td>98.000000</td>\n",
              "      <td>54.000000</td>\n",
              "      <td>98.000000</td>\n",
              "      <td>20.000000</td>\n",
              "    </tr>\n",
              "  </tbody>\n",
              "</table>\n",
              "</div>"
            ],
            "text/plain": [
              "          Unnamed: 0  ...  NumberOfDependents\n",
              "count  150000.000000  ...       146076.000000\n",
              "mean    75000.500000  ...            0.757222\n",
              "std     43301.414527  ...            1.115086\n",
              "min         1.000000  ...            0.000000\n",
              "25%     37500.750000  ...            0.000000\n",
              "50%     75000.500000  ...            0.000000\n",
              "75%    112500.250000  ...            1.000000\n",
              "max    150000.000000  ...           20.000000\n",
              "\n",
              "[8 rows x 12 columns]"
            ]
          },
          "metadata": {
            "tags": []
          },
          "execution_count": 64
        }
      ]
    },
    {
      "cell_type": "markdown",
      "metadata": {
        "id": "INvbxUwkQT10",
        "colab_type": "text"
      },
      "source": [
        "观察到：\n",
        "- \"NumberOfDependents\" 有50%以上的人没有家属，离散值较大，选取众数填充null"
      ]
    },
    {
      "cell_type": "markdown",
      "metadata": {
        "id": "rFznNXxNPuCZ",
        "colab_type": "text"
      },
      "source": [
        "#### 2.2.3 corr()查找关联"
      ]
    },
    {
      "cell_type": "code",
      "metadata": {
        "id": "2tDiDy8TL231",
        "colab_type": "code",
        "colab": {
          "base_uri": "https://localhost:8080/",
          "height": 1000
        },
        "outputId": "7c33dd5c-d29a-4c44-948a-23b02723f4b0"
      },
      "source": [
        "#查找关联(后面清洗数据的时候也要经常用的，用来比较效果) \n",
        "import matplotlib.pyplot as plt\n",
        "import seaborn as sns\n",
        "\n",
        "corr_matrix = train_df.corr()\n",
        "print(corr_matrix[\"SeriousDlqin2yrs\"].sort_values(ascending=False))\n",
        "# 下面的代码是图形化地展示各特征之间的相关性\n",
        "fig, ax = plt.subplots(figsize=(12,12))\n",
        "sns.heatmap(corr_matrix,xticklabels=corr_matrix.columns,yticklabels=corr_matrix.columns,annot=True)"
      ],
      "execution_count": 122,
      "outputs": [
        {
          "output_type": "stream",
          "text": [
            "SeriousDlqin2yrs                        1.000000\n",
            "NumberOfTime30-59DaysPastDueNotWorse    0.125587\n",
            "NumberOfTimes90DaysLate                 0.117175\n",
            "NumberOfTime60-89DaysPastDueNotWorse    0.102261\n",
            "Unnamed: 0                              0.002801\n",
            "RevolvingUtilizationOfUnsecuredLines   -0.001802\n",
            "NumberRealEstateLoansOrLines           -0.007038\n",
            "DebtRatio                              -0.007602\n",
            "NumberOfDependents                     -0.013881\n",
            "MonthlyIncome                          -0.018002\n",
            "NumberOfOpenCreditLinesAndLoans        -0.029669\n",
            "age                                    -0.115386\n",
            "Name: SeriousDlqin2yrs, dtype: float64\n"
          ],
          "name": "stdout"
        },
        {
          "output_type": "execute_result",
          "data": {
            "text/plain": [
              "<matplotlib.axes._subplots.AxesSubplot at 0x7f6dc5f0ad30>"
            ]
          },
          "metadata": {
            "tags": []
          },
          "execution_count": 122
        },
        {
          "output_type": "display_data",
          "data": {
            "image/png": "[encoded data removed]",
            "text/plain": [
              "<Figure size 864x864 with 2 Axes>"
            ]
          },
          "metadata": {
            "tags": []
          }
        }
      ]
    },
    {
      "cell_type": "markdown",
      "metadata": {
        "id": "2GqJVRd6VmPh",
        "colab_type": "text"
      },
      "source": [
        "查找SeriousDlqin2yrs（目标值，越小越好）与其它特征的相关性\n",
        "- 其余特征，各特征相关性超过60%的就可以只用一个特征建模，此案例中，NumberOfTime30-59DaysPastDueNotWorse，NumberOfTimes90DaysLate，NumberOfTime60-89DaysPastDueNotWorse可以只用一个"
      ]
    },
    {
      "cell_type": "markdown",
      "metadata": {
        "id": "IQgPio2pPNFg",
        "colab_type": "text"
      },
      "source": [
        "### 2.3 数据清洗\n",
        "清晰地还不是很好，过段时间我会重新整理的。其实，如果是纯自己探索的话，观察数据和数据清洗应该是一直交替进行的"
      ]
    },
    {
      "cell_type": "markdown",
      "metadata": {
        "id": "DlWiJr_1Y-NY",
        "colab_type": "text"
      },
      "source": [
        "#### 2.3.1 缺失值处理"
      ]
    },
    {
      "cell_type": "code",
      "metadata": {
        "id": "U2dyCaGOPPTv",
        "colab_type": "code",
        "colab": {
          "base_uri": "https://localhost:8080/",
          "height": 331
        },
        "outputId": "7298674a-5c3f-4f11-8c48-4b9e7e403a4c"
      },
      "source": [
        "for data in combine:\n",
        "  data[\"MonthlyIncome\"].fillna(data[\"MonthlyIncome\"].mean(), inplace=True)\n",
        "  data[\"NumberOfDependents\"].fillna(data[\"MonthlyIncome\"].mode()[0], inplace=True)\n",
        "#查看一下替换后的数据，嗯，没有空值了\n",
        "train_df.info()"
      ],
      "execution_count": 190,
      "outputs": [
        {
          "output_type": "stream",
          "text": [
            "<class 'pandas.core.frame.DataFrame'>\n",
            "RangeIndex: 150000 entries, 0 to 149999\n",
            "Data columns (total 12 columns):\n",
            "Unnamed: 0                              150000 non-null int64\n",
            "SeriousDlqin2yrs                        150000 non-null int64\n",
            "RevolvingUtilizationOfUnsecuredLines    150000 non-null float64\n",
            "age                                     150000 non-null int64\n",
            "NumberOfTime30-59DaysPastDueNotWorse    150000 non-null int64\n",
            "DebtRatio                               150000 non-null float64\n",
            "MonthlyIncome                           150000 non-null float64\n",
            "NumberOfOpenCreditLinesAndLoans         150000 non-null int64\n",
            "NumberOfTimes90DaysLate                 150000 non-null int64\n",
            "NumberRealEstateLoansOrLines            150000 non-null int64\n",
            "NumberOfTime60-89DaysPastDueNotWorse    150000 non-null int64\n",
            "NumberOfDependents                      150000 non-null float64\n",
            "dtypes: float64(4), int64(8)\n",
            "memory usage: 13.7 MB\n"
          ],
          "name": "stdout"
        }
      ]
    },
    {
      "cell_type": "markdown",
      "metadata": {
        "id": "zsN_paEsZEYm",
        "colab_type": "text"
      },
      "source": [
        "#### 2.3.2 异常值处理"
      ]
    },
    {
      "cell_type": "markdown",
      "metadata": {
        "id": "xB_UAlDH1vdO",
        "colab_type": "text"
      },
      "source": [
        "NumberOfDependents"
      ]
    },
    {
      "cell_type": "code",
      "metadata": {
        "id": "5UuvjauItkJZ",
        "colab_type": "code",
        "colab": {
          "base_uri": "https://localhost:8080/",
          "height": 294
        },
        "outputId": "94e1670f-03fc-4476-dee5-46d4e9f15bbe"
      },
      "source": [
        "#可以看到，家属数量居然有6670的,而且数量还不少，占到了2.6%,先用平均值填补吧\n",
        "train_df.NumberOfDependents.value_counts()"
      ],
      "execution_count": 191,
      "outputs": [
        {
          "output_type": "execute_result",
          "data": {
            "text/plain": [
              "0.000000       86902\n",
              "1.000000       26316\n",
              "2.000000       19522\n",
              "3.000000        9483\n",
              "6670.221237     3924\n",
              "4.000000        2862\n",
              "5.000000         746\n",
              "6.000000         158\n",
              "7.000000          51\n",
              "8.000000          24\n",
              "9.000000           5\n",
              "10.000000          5\n",
              "13.000000          1\n",
              "20.000000          1\n",
              "Name: NumberOfDependents, dtype: int64"
            ]
          },
          "metadata": {
            "tags": []
          },
          "execution_count": 191
        }
      ]
    },
    {
      "cell_type": "code",
      "metadata": {
        "id": "vgj9OT86y3NS",
        "colab_type": "code",
        "colab": {
          "base_uri": "https://localhost:8080/",
          "height": 257
        },
        "outputId": "76e00300-0273-48c9-e969-164f6e473ae6"
      },
      "source": [
        "##填补前先看一下家属数和目标值的相关性，以便看一下效果,没处理前相关度-0.013881（我把所有的相关性列出来，是为了好随时查看其它几个的相关性）\n",
        "corr_matrix = train_df.corr()\n",
        "corr_matrix[\"SeriousDlqin2yrs\"].sort_values(ascending=False)"
      ],
      "execution_count": 192,
      "outputs": [
        {
          "output_type": "execute_result",
          "data": {
            "text/plain": [
              "SeriousDlqin2yrs                        1.000000\n",
              "NumberOfTime30-59DaysPastDueNotWorse    0.125587\n",
              "NumberOfTimes90DaysLate                 0.117175\n",
              "NumberOfTime60-89DaysPastDueNotWorse    0.102261\n",
              "Unnamed: 0                              0.002801\n",
              "RevolvingUtilizationOfUnsecuredLines   -0.001802\n",
              "NumberRealEstateLoansOrLines           -0.007038\n",
              "DebtRatio                              -0.007602\n",
              "NumberOfDependents                     -0.013881\n",
              "MonthlyIncome                          -0.018002\n",
              "NumberOfOpenCreditLinesAndLoans        -0.029669\n",
              "age                                    -0.115386\n",
              "Name: SeriousDlqin2yrs, dtype: float64"
            ]
          },
          "metadata": {
            "tags": []
          },
          "execution_count": 192
        }
      ]
    },
    {
      "cell_type": "code",
      "metadata": {
        "id": "gKy07nr0vJnm",
        "colab_type": "code",
        "colab": {
          "base_uri": "https://localhost:8080/",
          "height": 349
        },
        "outputId": "a8f48a1b-33eb-4950-e6b7-7cbc93108cdc"
      },
      "source": [
        "for data in combine:\n",
        "  data[\"NumberOfDependents\"][data[\"NumberOfDependents\"]>30] = 0\n",
        "  \n",
        "corr_matrix = train_df.corr()\n",
        "corr_matrix[\"SeriousDlqin2yrs\"].sort_values(ascending=False)\n",
        "#修改异常值后\"NumberOfDependents\"的相关性达到了0.046869"
      ],
      "execution_count": 193,
      "outputs": [
        {
          "output_type": "stream",
          "text": [
            "/usr/local/lib/python3.6/dist-packages/ipykernel_launcher.py:2: SettingWithCopyWarning: \n",
            "A value is trying to be set on a copy of a slice from a DataFrame\n",
            "\n",
            "See the caveats in the documentation: http://pandas.pydata.org/pandas-docs/stable/indexing.html#indexing-view-versus-copy\n",
            "  \n"
          ],
          "name": "stderr"
        },
        {
          "output_type": "execute_result",
          "data": {
            "text/plain": [
              "SeriousDlqin2yrs                        1.000000\n",
              "NumberOfTime30-59DaysPastDueNotWorse    0.125587\n",
              "NumberOfTimes90DaysLate                 0.117175\n",
              "NumberOfTime60-89DaysPastDueNotWorse    0.102261\n",
              "NumberOfDependents                      0.046869\n",
              "Unnamed: 0                              0.002801\n",
              "RevolvingUtilizationOfUnsecuredLines   -0.001802\n",
              "NumberRealEstateLoansOrLines           -0.007038\n",
              "DebtRatio                              -0.007602\n",
              "MonthlyIncome                          -0.018002\n",
              "NumberOfOpenCreditLinesAndLoans        -0.029669\n",
              "age                                    -0.115386\n",
              "Name: SeriousDlqin2yrs, dtype: float64"
            ]
          },
          "metadata": {
            "tags": []
          },
          "execution_count": 193
        }
      ]
    },
    {
      "cell_type": "markdown",
      "metadata": {
        "id": "9WgIGkCf1rgU",
        "colab_type": "text"
      },
      "source": [
        "age"
      ]
    },
    {
      "cell_type": "code",
      "metadata": {
        "id": "PX7RL2DglY8R",
        "colab_type": "code",
        "colab": {
          "base_uri": "https://localhost:8080/",
          "height": 86
        },
        "outputId": "04c3bc5c-e1c7-4008-813f-2f70e3a3d2dd"
      },
      "source": [
        "train_df = train_df[train_df[\"age\"]>18]\n",
        "test_df = test_df[test_df[\"age\"]>18]\n",
        "\n",
        "combine = [train_df, test_df]\n",
        "train_df[train_df[\"age\"]<18]"
      ],
      "execution_count": 194,
      "outputs": [
        {
          "output_type": "execute_result",
          "data": {
            "text/html": [
              "<div>\n",
              "<style scoped>\n",
              "    .dataframe tbody tr th:only-of-type {\n",
              "        vertical-align: middle;\n",
              "    }\n",
              "\n",
              "    .dataframe tbody tr th {\n",
              "        vertical-align: top;\n",
              "    }\n",
              "\n",
              "    .dataframe thead th {\n",
              "        text-align: right;\n",
              "    }\n",
              "</style>\n",
              "<table border=\"1\" class=\"dataframe\">\n",
              "  <thead>\n",
              "    <tr style=\"text-align: right;\">\n",
              "      <th></th>\n",
              "      <th>Unnamed: 0</th>\n",
              "      <th>SeriousDlqin2yrs</th>\n",
              "      <th>RevolvingUtilizationOfUnsecuredLines</th>\n",
              "      <th>age</th>\n",
              "      <th>NumberOfTime30-59DaysPastDueNotWorse</th>\n",
              "      <th>DebtRatio</th>\n",
              "      <th>MonthlyIncome</th>\n",
              "      <th>NumberOfOpenCreditLinesAndLoans</th>\n",
              "      <th>NumberOfTimes90DaysLate</th>\n",
              "      <th>NumberRealEstateLoansOrLines</th>\n",
              "      <th>NumberOfTime60-89DaysPastDueNotWorse</th>\n",
              "      <th>NumberOfDependents</th>\n",
              "    </tr>\n",
              "  </thead>\n",
              "  <tbody>\n",
              "  </tbody>\n",
              "</table>\n",
              "</div>"
            ],
            "text/plain": [
              "Empty DataFrame\n",
              "Columns: [Unnamed: 0, SeriousDlqin2yrs, RevolvingUtilizationOfUnsecuredLines, age, NumberOfTime30-59DaysPastDueNotWorse, DebtRatio, MonthlyIncome, NumberOfOpenCreditLinesAndLoans, NumberOfTimes90DaysLate, NumberRealEstateLoansOrLines, NumberOfTime60-89DaysPastDueNotWorse, NumberOfDependents]\n",
              "Index: []"
            ]
          },
          "metadata": {
            "tags": []
          },
          "execution_count": 194
        }
      ]
    },
    {
      "cell_type": "markdown",
      "metadata": {
        "id": "XCD3J68X3A-r",
        "colab_type": "text"
      },
      "source": [
        "#### 2.3.3 创建新特征"
      ]
    },
    {
      "cell_type": "code",
      "metadata": {
        "id": "G06vLwAY3DmQ",
        "colab_type": "code",
        "colab": {}
      },
      "source": [
        "for data in combine:\n",
        "  data[\"CombinedDefaulted\"] = data[\"NumberOfTimes90DaysLate\"] + data[\"NumberOfTime60-89DaysPastDueNotWorse\"] + data[\"NumberOfTime30-59DaysPastDueNotWorse\"]\n",
        "  data.loc[(data[\"CombinedDefaulted\"] >= 1), \"CombinedDefaulted\"] = 1\n",
        "  data[\"CombinedCreditLoans\"] = data[\"NumberOfOpenCreditLinesAndLoans\"] + data[\"NumberRealEstateLoansOrLines\"]\n",
        "\n",
        "  data[\"CombinedCreditLoans\"] = data[\"NumberOfOpenCreditLinesAndLoans\"] + data[\"NumberRealEstateLoansOrLines\"]\n",
        "  data.loc[(data[\"CombinedCreditLoans\"] <= 5), \"CombinedCreditLoans\"] = 0\n",
        "  data.loc[(data[\"CombinedCreditLoans\"] > 5), \"CombinedCreditLoans\"] = 1\n"
      ],
      "execution_count": 0,
      "outputs": []
    },
    {
      "cell_type": "code",
      "metadata": {
        "id": "PiGX_Bzs4S8O",
        "colab_type": "code",
        "colab": {
          "base_uri": "https://localhost:8080/",
          "height": 72
        },
        "outputId": "bd6ec406-036a-461d-88b1-8931c2e675cc"
      },
      "source": [
        "train_df.corr()[\"SeriousDlqin2yrs\"][[\"CombinedDefaulted\", \"CombinedCreditLoans\"]]"
      ],
      "execution_count": 159,
      "outputs": [
        {
          "output_type": "execute_result",
          "data": {
            "text/plain": [
              "CombinedDefaulted      0.314415\n",
              "CombinedCreditLoans   -0.054778\n",
              "Name: SeriousDlqin2yrs, dtype: float64"
            ]
          },
          "metadata": {
            "tags": []
          },
          "execution_count": 159
        }
      ]
    },
    {
      "cell_type": "markdown",
      "metadata": {
        "id": "P5jANJKJZG33",
        "colab_type": "text"
      },
      "source": [
        "### 2.4 模型和预测"
      ]
    },
    {
      "cell_type": "markdown",
      "metadata": {
        "id": "vUyHB3efjVKf",
        "colab_type": "text"
      },
      "source": [
        "数据集要再切分一下，前面的test是用来最终测试的，没有目标值，提交到kaggle之后它会返回给你一个AUC成绩，相当于评价泛化能力。而现在首先要自己评价当前模型"
      ]
    },
    {
      "cell_type": "code",
      "metadata": {
        "id": "-PYcKox7jUEq",
        "colab_type": "code",
        "colab": {}
      },
      "source": [
        "attributes=[\"SeriousDlqin2yrs\", 'age','NumberOfTime30-59DaysPastDueNotWorse','NumberOfDependents','MonthlyIncome',\"CombinedDefaulted\",\"CombinedCreditLoans\"]\n",
        "sol=['SeriousDlqin2yrs']\n",
        "\n",
        "attributes2 = [\"Unnamed: 0\", 'age','NumberOfTime30-59DaysPastDueNotWorse','NumberOfDependents','MonthlyIncome',\"CombinedDefaulted\",\"CombinedCreditLoans\"]\n",
        "sol=['SeriousDlqin2yrs']\n",
        "\n",
        "train_df = train_df[attributes]\n",
        "test_df = test_df[attributes2]\n"
      ],
      "execution_count": 0,
      "outputs": []
    },
    {
      "cell_type": "markdown",
      "metadata": {
        "id": "PtILeMjLdqBV",
        "colab_type": "text"
      },
      "source": [
        "#### 2.4.1 逻辑回归"
      ]
    },
    {
      "cell_type": "markdown",
      "metadata": {
        "id": "Ao4GUMXE-etT",
        "colab_type": "text"
      },
      "source": [
        "为了快速测试，写了一个类"
      ]
    },
    {
      "cell_type": "code",
      "metadata": {
        "id": "q5dzr04l-d5A",
        "colab_type": "code",
        "colab": {}
      },
      "source": [
        "import time\n",
        "import os\n",
        "from sklearn.model_selection import cross_validate\n",
        "\n",
        "class Tester():\n",
        "    def __init__(self, target):\n",
        "        self.target = target\n",
        "        self.datasets = {}\n",
        "        self.models = {}\n",
        "        self.cache = {} # 我们添加了一个简单的缓存来加快速度\n",
        "\n",
        "    def addDataset(self, name, df):\n",
        "        self.datasets[name] = df.copy()\n",
        "\n",
        "    def addModel(self, name, model):\n",
        "        self.models[name] = model\n",
        "        \n",
        "    def clearModels(self):\n",
        "        self.models = {}\n",
        "\n",
        "    def clearCache(self):\n",
        "        self.cache = {}\n",
        "    \n",
        "    def testModelWithDataset(self, m_name, df_name, sample_len, cv):\n",
        "        if (m_name, df_name, sample_len, cv) in self.cache:\n",
        "            return self.cache[(m_name, df_name, sample_len, cv)]\n",
        "\n",
        "        clf = self.models[m_name]\n",
        "        \n",
        "        if not sample_len: \n",
        "            sample = self.datasets[df_name]\n",
        "        else: sample = self.datasets[df_name].sample(sample_len)\n",
        "            \n",
        "        X = sample.drop([self.target], axis=1)\n",
        "        Y = sample[self.target]\n",
        "\n",
        "        s = cross_validate(clf, X, Y, scoring=['roc_auc'], cv=cv, n_jobs=-1)\n",
        "        self.cache[(m_name, df_name, sample_len, cv)] = s\n",
        "\n",
        "        return s\n",
        "\n",
        "    def runTests(self, sample_len=80000, cv=4):\n",
        "        # 在所有添加的数据集上测试添加的模型\n",
        "        scores = {}\n",
        "        for m_name in self.models:\n",
        "            for df_name in self.datasets:\n",
        "                # print('Testing %s' % str((m_name, df_name)), end='')\n",
        "                start = time.time()\n",
        "\n",
        "                score = self.testModelWithDataset(m_name, df_name, sample_len, cv)\n",
        "                scores[(m_name, df_name)] = score\n",
        "                \n",
        "                end = time.time()\n",
        "                \n",
        "                # print(' -- %0.2fs ' % (end - start))\n",
        "\n",
        "        print('--- Top 10 Results ---')\n",
        "        for score in sorted(scores.items(), key=lambda x: -1 * x[1]['test_roc_auc'].mean())[:10]:\n",
        "            auc = score[1]['test_roc_auc']\n",
        "            print(\"%s --> AUC: %0.4f (+/- %0.4f)\" % (str(score[0]), auc.mean(), auc.std()))\n",
        "    "
      ],
      "execution_count": 0,
      "outputs": []
    },
    {
      "cell_type": "code",
      "metadata": {
        "id": "yiJCg-yJBHG5",
        "colab_type": "code",
        "colab": {
          "base_uri": "https://localhost:8080/",
          "height": 72
        },
        "outputId": "ca01cd44-952a-4b5d-9028-d17e68c40bce"
      },
      "source": [
        "from sklearn.ensemble import RandomForestClassifier\n",
        "from sklearn.linear_model import LogisticRegression\n",
        "\n",
        "# 我们将在所有模型中使用测试对象\n",
        "tester = Tester('SeriousDlqin2yrs')\n",
        "\n",
        "# 添加数据集\n",
        "tester.addDataset('Drop Missing', train_df.dropna())\n",
        "\n",
        "# 添加模型\n",
        "rfc = RandomForestClassifier(n_estimators=15, max_depth = 6, random_state=0)\n",
        "log = LogisticRegression()\n",
        "tester.addModel('Simple Random Forest', rfc)\n",
        "tester.addModel('Simple Logistic Regression', log)\n",
        "\n",
        "# 测试\n",
        "tester.runTests()"
      ],
      "execution_count": 203,
      "outputs": [
        {
          "output_type": "stream",
          "text": [
            "--- Top 10 Results ---\n",
            "('Simple Random Forest', 'Drop Missing') --> AUC: 0.8128 (+/- 0.0085)\n",
            "('Simple Logistic Regression', 'Drop Missing') --> AUC: 0.7884 (+/- 0.0107)\n"
          ],
          "name": "stdout"
        }
      ]
    },
    {
      "cell_type": "code",
      "metadata": {
        "id": "WuKPZWkbBybM",
        "colab_type": "code",
        "colab": {}
      },
      "source": [
        "X_train = train_df.drop(['SeriousDlqin2yrs'], axis=1)\n",
        "Y_train = train_df['SeriousDlqin2yrs']\n",
        "\n",
        "X_test = test_df.drop([\"Unnamed: 0\"], axis=1)\n",
        "rfc.fit(X_train, Y_train)\n",
        "Y_pred = rfc.predict_proba(X_test)\n"
      ],
      "execution_count": 0,
      "outputs": []
    },
    {
      "cell_type": "code",
      "metadata": {
        "id": "O_duLLrpHV0k",
        "colab_type": "code",
        "colab": {}
      },
      "source": [
        "submission = pd.DataFrame({\n",
        "        \"Id\": test_df[\"Unnamed: 0\"],\n",
        "        \"Probability\": pd.DataFrame(Y_pred)[1]\n",
        "    })\n",
        "\n",
        "submission.to_csv('submission.csv', index=False)"
      ],
      "execution_count": 0,
      "outputs": []
    },
    {
      "cell_type": "markdown",
      "metadata": {
        "id": "iMxAlfatJlvq",
        "colab_type": "text"
      },
      "source": [
        "最终结果：得分0.81032，最高分是0.86955"
      ]
    }
  ]
}